{
 "cells": [
  {
   "cell_type": "markdown",
   "metadata": {},
   "source": [
    "# BMI Calculator\n",
    "\n",
    "## Enter your weight (kg) and height (meters)\n"
   ]
  },
  {
   "cell_type": "code",
   "execution_count": 5,
   "metadata": {},
   "outputs": [
    {
     "name": "stdout",
     "output_type": "stream",
     "text": [
      "Weight: 109.0, Height: 1.92, BMI: 29.56814236111111\n"
     ]
    }
   ],
   "source": [
    "w=float(input(\"Enter your weight in kgs: \"))\n",
    "h=float(input(\"Enter your height in meters: \"))\n",
    "bmi=w/(h**2)\n",
    "print(f\"Weight: {w}, Height: {h}, BMI: {bmi}\")"
   ]
  },
  {
   "cell_type": "markdown",
   "metadata": {},
   "source": [
    "## Interpretation\n",
    "| BMI         | Interpretacja                   |\n",
    "|-------------|---------------------------------|\n",
    "| < 18.5      | Niedowaga                        |\n",
    "| 18.5 - 24.9 | Wartość prawidłowa               |\n",
    "| 25 - 29.9   | Nadwaga                          |\n",
    "| 30 - 34.9   | Otyłość I stopnia                |\n",
    "| 35 - 39.9   | Otyłość II stopnia        |\n",
    "| > 40        | Otyłość III stopnia |\n"
   ]
  }
 ],
 "metadata": {
  "kernelspec": {
   "display_name": "Python 3",
   "language": "python",
   "name": "python3"
  },
  "language_info": {
   "codemirror_mode": {
    "name": "ipython",
    "version": 3
   },
   "file_extension": ".py",
   "mimetype": "text/x-python",
   "name": "python",
   "nbconvert_exporter": "python",
   "pygments_lexer": "ipython3",
   "version": "3.11.4"
  }
 },
 "nbformat": 4,
 "nbformat_minor": 2
}
